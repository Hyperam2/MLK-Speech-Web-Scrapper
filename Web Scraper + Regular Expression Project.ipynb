{
 "cells": [
  {
   "cell_type": "code",
   "execution_count": 3,
   "id": "d14cb212-c397-4ded-a4b3-b1e7c1e73d57",
   "metadata": {},
   "outputs": [],
   "source": [
    "from bs4 import BeautifulSoup\n",
    "import requests\n",
    "import os\n",
    "import pandas as pd\n",
    "from datetime import datetime\n",
    "import time"
   ]
  },
  {
   "cell_type": "code",
   "execution_count": 9,
   "id": "ee5318bd-9969-427a-ad09-1b6c3fd26027",
   "metadata": {},
   "outputs": [],
   "source": [
    "url = 'http://www.analytictech.com/mb021/mlk.htm'\n",
    "\n",
    "page= requests.get(url)\n",
    "\n",
    "soup = BeautifulSoup(page.text,'html')"
   ]
  },
  {
   "cell_type": "code",
   "execution_count": null,
   "id": "2852b828-e298-4745-98ca-8cb0eae632cf",
   "metadata": {},
   "outputs": [],
   "source": [
    "print(soup)"
   ]
  },
  {
   "cell_type": "code",
   "execution_count": 17,
   "id": "22333145-9a05-464b-b441-273e60e32735",
   "metadata": {},
   "outputs": [],
   "source": [
    "mlkj_speech = soup.find_all('p')"
   ]
  },
  {
   "cell_type": "code",
   "execution_count": 19,
   "id": "99a725d9-33d3-4be4-87a6-2c9b75e859bd",
   "metadata": {},
   "outputs": [
    {
     "data": {
      "text/plain": [
       "bs4.element.ResultSet"
      ]
     },
     "execution_count": 19,
     "metadata": {},
     "output_type": "execute_result"
    }
   ],
   "source": [
    "type(mlkj_speech)"
   ]
  },
  {
   "cell_type": "code",
   "execution_count": 33,
   "id": "826119e5-0cf2-4489-8b0a-258750acfc62",
   "metadata": {},
   "outputs": [],
   "source": [
    "speech_combined = [p.text for p in mlkj_speech]"
   ]
  },
  {
   "cell_type": "code",
   "execution_count": null,
   "id": "a2e5ee1d-30f9-41bd-807d-f6b995663e56",
   "metadata": {},
   "outputs": [],
   "source": [
    "print(speech_combined)"
   ]
  },
  {
   "cell_type": "code",
   "execution_count": 37,
   "id": "1e7881ca-bf79-46be-a238-ac29e2245121",
   "metadata": {},
   "outputs": [
    {
     "data": {
      "text/plain": [
       "list"
      ]
     },
     "execution_count": 37,
     "metadata": {},
     "output_type": "execute_result"
    }
   ],
   "source": [
    "type(speech_combined)"
   ]
  },
  {
   "cell_type": "code",
   "execution_count": 39,
   "id": "33979361-c9ff-4721-9103-bb8e764476f5",
   "metadata": {},
   "outputs": [],
   "source": [
    "string_speech = ''.join(speech_combined)"
   ]
  },
  {
   "cell_type": "code",
   "execution_count": 45,
   "id": "b4b3cc69-d6f6-487d-a2fc-05f8337125b0",
   "metadata": {},
   "outputs": [],
   "source": [
    "string_speech_mod = string_speech.replace('\\r\\n',' ')"
   ]
  },
  {
   "cell_type": "code",
   "execution_count": null,
   "id": "6ad059ce-8aeb-41bf-9a9a-14d2ece02738",
   "metadata": {},
   "outputs": [],
   "source": [
    "string_speech_mod(r'"
   ]
  },
  {
   "cell_type": "code",
   "execution_count": 47,
   "id": "3afcbcf3-7110-46e7-ab53-b597368b2ecf",
   "metadata": {},
   "outputs": [],
   "source": [
    "import re"
   ]
  },
  {
   "cell_type": "code",
   "execution_count": 49,
   "id": "1a0ef834-4b2f-433e-bef4-116b5453f676",
   "metadata": {},
   "outputs": [],
   "source": [
    "speech_no_punt = re.sub(r'[^\\w\\s]','',string_speech_mod) #keep words"
   ]
  },
  {
   "cell_type": "code",
   "execution_count": null,
   "id": "47cb3be6-ee71-4102-b20c-d19dc80d5a5a",
   "metadata": {},
   "outputs": [],
   "source": [
    "print(speech_no_punt)"
   ]
  },
  {
   "cell_type": "code",
   "execution_count": 53,
   "id": "3a52ab52-b364-4d3c-8655-84741c5c9fc1",
   "metadata": {},
   "outputs": [],
   "source": [
    "speech_lower = speech_no_punt.lower()"
   ]
  },
  {
   "cell_type": "code",
   "execution_count": 57,
   "id": "46d8ae05-a4c8-432e-abab-2c52c2ecf8a7",
   "metadata": {},
   "outputs": [],
   "source": [
    "speech_broken = re.split(r'\\s+',speech_lower)"
   ]
  },
  {
   "cell_type": "code",
   "execution_count": 59,
   "id": "6a2de489-4616-4680-905b-a5086fe3dde1",
   "metadata": {},
   "outputs": [],
   "source": [
    "import pandas as pd"
   ]
  },
  {
   "cell_type": "code",
   "execution_count": 63,
   "id": "65c728bc-d0a6-49a3-999c-1e27dfcdbcec",
   "metadata": {},
   "outputs": [
    {
     "data": {
      "text/plain": [
       "0      \n",
       "the        54\n",
       "of         49\n",
       "to         29\n",
       "and        27\n",
       "a          20\n",
       "           ..\n",
       "jews        1\n",
       "joyous      1\n",
       "judged      1\n",
       "land        1\n",
       "lookout     1\n",
       "Name: count, Length: 323, dtype: int64"
      ]
     },
     "execution_count": 63,
     "metadata": {},
     "output_type": "execute_result"
    }
   ],
   "source": [
    "df = pd.DataFrame(speech_broken).value_counts()\n",
    "df"
   ]
  },
  {
   "cell_type": "code",
   "execution_count": null,
   "id": "245fa557-8901-4b09-b9d1-7e70fae04141",
   "metadata": {},
   "outputs": [],
   "source": []
  },
  {
   "cell_type": "code",
   "execution_count": null,
   "id": "50fc7acc-22e4-4927-bc70-246c38975ed0",
   "metadata": {},
   "outputs": [],
   "source": []
  },
  {
   "cell_type": "code",
   "execution_count": null,
   "id": "90a21b0e-1fd7-42c8-a5c8-677dda06fdd3",
   "metadata": {},
   "outputs": [],
   "source": []
  },
  {
   "cell_type": "code",
   "execution_count": null,
   "id": "25ed33d0-cda5-4653-9f91-c3b8a2924a82",
   "metadata": {},
   "outputs": [],
   "source": []
  },
  {
   "cell_type": "code",
   "execution_count": null,
   "id": "ff60121c-1560-4830-98c2-a6ea26a621da",
   "metadata": {},
   "outputs": [],
   "source": []
  }
 ],
 "metadata": {
  "kernelspec": {
   "display_name": "Python [conda env:base] *",
   "language": "python",
   "name": "conda-base-py"
  },
  "language_info": {
   "codemirror_mode": {
    "name": "ipython",
    "version": 3
   },
   "file_extension": ".py",
   "mimetype": "text/x-python",
   "name": "python",
   "nbconvert_exporter": "python",
   "pygments_lexer": "ipython3",
   "version": "3.12.7"
  }
 },
 "nbformat": 4,
 "nbformat_minor": 5
}
